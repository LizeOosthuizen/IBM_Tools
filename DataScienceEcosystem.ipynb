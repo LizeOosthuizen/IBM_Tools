{
 "cells": [
  {
   "cell_type": "markdown",
   "id": "36ed7c79-454c-440b-82f0-5e3e1d507578",
   "metadata": {},
   "source": [
    "# Data Science Tools and Ecosystem"
   ]
  },
  {
   "cell_type": "markdown",
   "id": "3b92672c-a7a4-45f2-9ea4-9d154ba98f4e",
   "metadata": {},
   "source": [
    "In this notebook, Data Science Tools and Ecosystem are summarized."
   ]
  },
  {
   "cell_type": "markdown",
   "id": "f9db5d3e-7452-45b0-acf8-2140d7a9ec81",
   "metadata": {},
   "source": [
    "**Objectives:**\n",
    "- List popular languages for Data Science\n",
    "- List popular libraries\n",
    "- Tabulate Data Science Tools\n",
    "- Do basic arithmetic\n",
    "- Create ordered and unordered lists"
   ]
  },
  {
   "cell_type": "markdown",
   "id": "5b765c2c-37a5-4edc-95c0-8d67d962ae19",
   "metadata": {},
   "source": [
    "Some of the popular languages that Data Scientists use are:\n",
    "1. Python\n",
    "2. R\n",
    "3. SQL"
   ]
  },
  {
   "cell_type": "markdown",
   "id": "965a34de-5d27-4c10-80da-6980ea351d90",
   "metadata": {},
   "source": [
    "Some of the commonly used libraries used by Data Scientists include:\n",
    "1. NumPy\n",
    "2. Pandas\n",
    "3. Matplotlib"
   ]
  },
  {
   "cell_type": "markdown",
   "id": "70962762-3e4d-4639-a2f9-8e55a59e97bb",
   "metadata": {},
   "source": [
    "|Data Science Tools|\n",
    "--------------------\n",
    "|Jupyter Notebooks|\n",
    "|RStudio|\n",
    "|VS Code (Visual Studio Code)|\n"
   ]
  },
  {
   "cell_type": "markdown",
   "id": "df182a17-ee3d-4038-97d2-9c4e1d70734f",
   "metadata": {},
   "source": [
    "### Below are a few examples of evaluating arithmetic expressions in Python"
   ]
  },
  {
   "cell_type": "code",
   "execution_count": 5,
   "id": "b0e7e516-8707-4c6f-8e55-5d65ea11f3a6",
   "metadata": {},
   "outputs": [
    {
     "data": {
      "text/plain": [
       "17"
      ]
     },
     "execution_count": 5,
     "metadata": {},
     "output_type": "execute_result"
    }
   ],
   "source": [
    "# This a simple arithmetic expression to mutiply then add integers\n",
    "(3*4)+5"
   ]
  },
  {
   "cell_type": "code",
   "execution_count": 7,
   "id": "7fe41cf1-7be4-432d-9b6e-357a8e2ecad2",
   "metadata": {},
   "outputs": [
    {
     "name": "stdout",
     "output_type": "stream",
     "text": [
      "3.3333333333333335\n"
     ]
    }
   ],
   "source": [
    "# This will convert 200 minutes to hours by diving by 60\n",
    "minutes = 200\n",
    "hours = minutes / 60\n",
    "\n",
    "# Print the result\n",
    "print(hours)"
   ]
  },
  {
   "cell_type": "markdown",
   "id": "a0603f76-ab72-4bc6-9885-ac70a2faabf1",
   "metadata": {},
   "source": [
    "## Author: \n",
    "Lize"
   ]
  },
  {
   "cell_type": "code",
   "execution_count": null,
   "id": "b323135f-ad8b-4158-9f07-04bb8999d6dc",
   "metadata": {},
   "outputs": [],
   "source": []
  }
 ],
 "metadata": {
  "kernelspec": {
   "display_name": "Python 3 (ipykernel)",
   "language": "python",
   "name": "python3"
  },
  "language_info": {
   "codemirror_mode": {
    "name": "ipython",
    "version": 3
   },
   "file_extension": ".py",
   "mimetype": "text/x-python",
   "name": "python",
   "nbconvert_exporter": "python",
   "pygments_lexer": "ipython3",
   "version": "3.11.5"
  }
 },
 "nbformat": 4,
 "nbformat_minor": 5
}
